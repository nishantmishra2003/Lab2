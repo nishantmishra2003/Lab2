{
 "cells": [
  {
   "cell_type": "code",
   "execution_count": 1,
   "id": "14c7ada4-4a5e-4d85-b508-01f5060f5de6",
   "metadata": {},
   "outputs": [],
   "source": [
    "import numpy as np"
   ]
  },
  {
   "cell_type": "code",
   "execution_count": 2,
   "id": "2377368c-f658-4d05-826d-b29f96ed512d",
   "metadata": {},
   "outputs": [],
   "source": [
    "def step_function(x):\n",
    "    return 1 if x>=0 else 0"
   ]
  },
  {
   "cell_type": "code",
   "execution_count": 3,
   "id": "915cac81-9120-4b3b-af6e-ea9fa70bf149",
   "metadata": {},
   "outputs": [],
   "source": [
    "# training of neuron part:\n",
    "def tran(X,y,learning_rate=0.1,epochs=10):\n",
    "    #set the weights and the bias initially \n",
    "    weights = np.zeros(X.shape[1]) #the weights form similar array to the X\n",
    "    bias = 0\n",
    "    for epoch in range(epochs): # moves through the entire dataset 10 times\n",
    "        for i in range(len(X)):\n",
    "            linear_output = np.dot(X[i],weights)+bias\n",
    "            pred = step_function(linear_output)\n",
    "            error = y[i]-pred\n",
    "            weights = weights+learning_rate*error*X[i]\n",
    "            bias = bias+learning_rate*error\n",
    "    return weights,bias\n",
    "            "
   ]
  },
  {
   "cell_type": "code",
   "execution_count": 4,
   "id": "2c497298-e489-4f69-9fb0-01397af389ae",
   "metadata": {},
   "outputs": [],
   "source": [
    "X = np.array([[0,0],[0,1],[1,0],[1,1]])\n",
    "y = np.array([0,0,0,1])"
   ]
  },
  {
   "cell_type": "code",
   "execution_count": 5,
   "id": "bb493007-b857-4f39-815f-15d0b057fd6a",
   "metadata": {},
   "outputs": [],
   "source": [
    "weights,bias = tran(X,y)"
   ]
  },
  {
   "cell_type": "code",
   "execution_count": 7,
   "id": "ba299234-26ec-44fe-bcab-0cb9fd0c6a49",
   "metadata": {},
   "outputs": [
    {
     "ename": "ValueError",
     "evalue": "The truth value of an array with more than one element is ambiguous. Use a.any() or a.all()",
     "output_type": "error",
     "traceback": [
      "\u001b[1;31m---------------------------------------------------------------------------\u001b[0m",
      "\u001b[1;31mValueError\u001b[0m                                Traceback (most recent call last)",
      "Cell \u001b[1;32mIn[7], line 6\u001b[0m\n\u001b[0;32m      4\u001b[0m     \u001b[38;5;28;01mreturn\u001b[39;00m prediction\n\u001b[0;32m      5\u001b[0m \u001b[38;5;28;01mfor\u001b[39;00m x \u001b[38;5;129;01min\u001b[39;00m X:\n\u001b[1;32m----> 6\u001b[0m     \u001b[38;5;28mprint\u001b[39m(\u001b[38;5;124mf\u001b[39m\u001b[38;5;124m\"\u001b[39m\u001b[38;5;124minput:\u001b[39m\u001b[38;5;132;01m{\u001b[39;00mx\u001b[38;5;132;01m}\u001b[39;00m\u001b[38;5;124m, output:\u001b[39m\u001b[38;5;132;01m{\u001b[39;00m\u001b[43mpredict\u001b[49m\u001b[43m(\u001b[49m\u001b[43mX\u001b[49m\u001b[43m,\u001b[49m\u001b[43mweights\u001b[49m\u001b[43m,\u001b[49m\u001b[43mbias\u001b[49m\u001b[43m)\u001b[49m\u001b[38;5;132;01m}\u001b[39;00m\u001b[38;5;124m\"\u001b[39m)\n",
      "Cell \u001b[1;32mIn[7], line 3\u001b[0m, in \u001b[0;36mpredict\u001b[1;34m(X, weights, bias)\u001b[0m\n\u001b[0;32m      1\u001b[0m \u001b[38;5;28;01mdef\u001b[39;00m \u001b[38;5;21mpredict\u001b[39m(X,weights,bias):\n\u001b[0;32m      2\u001b[0m     linear_output \u001b[38;5;241m=\u001b[39m np\u001b[38;5;241m.\u001b[39mdot(X,weights)\u001b[38;5;241m+\u001b[39mbias\n\u001b[1;32m----> 3\u001b[0m     prediction \u001b[38;5;241m=\u001b[39m \u001b[43mstep_function\u001b[49m\u001b[43m(\u001b[49m\u001b[43mlinear_output\u001b[49m\u001b[43m)\u001b[49m\n\u001b[0;32m      4\u001b[0m     \u001b[38;5;28;01mreturn\u001b[39;00m prediction\n",
      "Cell \u001b[1;32mIn[2], line 2\u001b[0m, in \u001b[0;36mstep_function\u001b[1;34m(x)\u001b[0m\n\u001b[0;32m      1\u001b[0m \u001b[38;5;28;01mdef\u001b[39;00m \u001b[38;5;21mstep_function\u001b[39m(x):\n\u001b[1;32m----> 2\u001b[0m     \u001b[38;5;28;01mreturn\u001b[39;00m \u001b[38;5;241m1\u001b[39m \u001b[38;5;28;01mif\u001b[39;00m x\u001b[38;5;241m>\u001b[39m\u001b[38;5;241m=\u001b[39m\u001b[38;5;241m0\u001b[39m \u001b[38;5;28;01melse\u001b[39;00m \u001b[38;5;241m0\u001b[39m\n",
      "\u001b[1;31mValueError\u001b[0m: The truth value of an array with more than one element is ambiguous. Use a.any() or a.all()"
     ]
    }
   ],
   "source": [
    "def predict(X,weights,bias):\n",
    "    linear_output = np.dot(X,weights)+bias\n",
    "    return step_function(linear_output)\n",
    "    \n",
    "for x in X:\n",
    "    print(f\"input:{x}, output:{predict(X,weights,bias)}\")"
   ]
  },
  {
   "cell_type": "code",
   "execution_count": null,
   "id": "2dd1de2c-fea4-4682-b165-3e133c12a662",
   "metadata": {},
   "outputs": [],
   "source": []
  }
 ],
 "metadata": {
  "kernelspec": {
   "display_name": "Python 3 (ipykernel)",
   "language": "python",
   "name": "python3"
  },
  "language_info": {
   "codemirror_mode": {
    "name": "ipython",
    "version": 3
   },
   "file_extension": ".py",
   "mimetype": "text/x-python",
   "name": "python",
   "nbconvert_exporter": "python",
   "pygments_lexer": "ipython3",
   "version": "3.12.4"
  }
 },
 "nbformat": 4,
 "nbformat_minor": 5
}
